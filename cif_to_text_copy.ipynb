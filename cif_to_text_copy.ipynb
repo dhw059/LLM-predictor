{
 "cells": [
  {
   "cell_type": "markdown",
   "metadata": {},
   "source": [
    "## core code "
   ]
  },
  {
   "cell_type": "code",
   "execution_count": 1,
   "metadata": {},
   "outputs": [
    {
     "name": "stdout",
     "output_type": "stream",
     "text": [
      "WARNING:tensorflow:From d:\\ProgramData\\envs\\LLM\\lib\\site-packages\\keras\\src\\losses.py:2976: The name tf.losses.sparse_softmax_cross_entropy is deprecated. Please use tf.compat.v1.losses.sparse_softmax_cross_entropy instead.\n",
      "\n"
     ]
    }
   ],
   "source": [
    "from kgcnn.data.utils import load_json_file\n",
    "import os\n",
    "from pymatgen.core import Structure\n",
    "from robocrys import StructureCondenser, StructureDescriber\n",
    "import inflect\n",
    "import pandas as pd\n",
    "import warnings\n",
    "\n",
    "# import signal\n",
    "import threading"
   ]
  },
  {
   "cell_type": "code",
   "execution_count": 2,
   "metadata": {},
   "outputs": [
    {
     "name": "stdout",
     "output_type": "stream",
     "text": [
      "0\n"
     ]
    },
    {
     "name": "stderr",
     "output_type": "stream",
     "text": [
      "Reading file d:\\ProgramData\\envs\\LLM\\lib\\site-packages\\robocrys\\condense\\mineral_db.json.gz: 0it [00:00, ?it/s]#####1| 165/180 [00:00<00:00, 1633.70it/s]\n",
      "Decoding objects from d:\\ProgramData\\envs\\LLM\\lib\\site-packages\\robocrys\\condense\\mineral_db.json.gz: 100%|##########| 180/180 [00:00<00:00, 1666.27it/s]\n"
     ]
    }
   ],
   "source": [
    "warnings.filterwarnings('ignore')\n",
    "# download json file include structure and label\n",
    "# default offline matbench data path config\n",
    "data_main_dir = os.path.join(os.path.expanduser(r\"C:\\Users\\dhw059\\.kgcnn\"), \"datasets\")\n",
    "data_directory_name = \"jarvis_dft_3d_max_efg\"\n",
    "file_name_download = \"max_efg.pymatgen.json\"  \n",
    "label_file = 'max_efg.csv'\n",
    "# 提取前缀\n",
    "prefix = label_file.split('.')[0]\n",
    "# data_directory_name = \"matbench_phonons\"\n",
    "# file_name_download = \"matbench_phonons.json\"  \n",
    "\n",
    "df_dict = {} # \"index\": data[\"index\"]\n",
    "data_directory = os.path.join(data_main_dir, data_directory_name) \n",
    "data = load_json_file(os.path.join(data_directory, file_name_download))\n",
    "# 读取CSV文件\n",
    "data_label = pd.read_csv(os.path.join(data_directory, label_file))\n",
    "\n",
    "py_mat_list = data # this include all structure infos\n",
    "# 提取index和exfoliation_energy列数据\n",
    "index = data_label['index'].tolist()\n",
    "labels = data_label[prefix].tolist()\n",
    "\n",
    "# read from .json file \n",
    "desc = []  #1500-1540  1700   2500-2549\n",
    "formula_list= []\n",
    "structure_list =[]\n",
    "label_list = []\n",
    "index_list = []\n",
    "\n",
    "def timeout_handler(signum=None):\n",
    "    print(\"Task timed out!\")\n",
    "    raise TimeoutError(\"The operation has timed out.\")\n",
    "\n",
    "for num,struct in enumerate(py_mat_list):\n",
    "    if num%100==0:\n",
    "        print(num)\n",
    "        \n",
    "    # 设置定时器，120秒后调用timeout_handler\n",
    "    timer = threading.Timer(30, timeout_handler)\n",
    "    timer.start()\n",
    "  \n",
    "    try:\n",
    "        ss = Structure.from_dict(struct)\n",
    "        ss.add_oxidation_state_by_guess()\n",
    "        # use pymatgen.Structure obj read .json file get pymatgen.Structure obj\n",
    "        condenser = StructureCondenser()\n",
    "        condensed_structure = condenser.condense_structure(ss)\n",
    "        # 尝试使用 Unicode 格式创建 StructureDescriber 实例\n",
    "        describer = StructureDescriber(\n",
    "            bond_length_decimal_places=3,\n",
    "            fmt=\"unicode\",\n",
    "        )\n",
    "        # use robocrys convert  pymatgen.Structure obj  to text\n",
    "        description = describer.describe(condensed_structure)\n",
    "        \n",
    "        # 取消定时器，防止在任务完成后执行timeout_handler\n",
    "        timer.cancel()\n",
    "        \n",
    "    except TimeoutError as e:\n",
    "        continue\n",
    "    \n",
    "    except Exception as e:\n",
    "        try:\n",
    "            # 如果发生错误，捕获异常并打印错误信息\n",
    "            print(f\"An error occurred: {e}\")\n",
    "            # 然后创建一个不使用 Unicode 格式的 StructureDescriber 实例\n",
    "            describer = StructureDescriber(\n",
    "                bond_length_decimal_places=3,\n",
    "                fmt=\"raw\",\n",
    "            )\n",
    "            # use robocrys convert  pymatgen.Structure obj  to text\n",
    "            description = describer.describe(condensed_structure)\n",
    "            \n",
    "        except Exception as e:\n",
    "            # 如果 raw 格式也失败，添加空字符串到描述列表\n",
    "            print(f\"Failed to describe structure {num} with raw format: {e}\")\n",
    "            # description = \"\"\n",
    "            continue\n",
    "    finally:\n",
    "        timer.cancel()\n",
    "    desc.append(description)\n",
    "    index_list.append(index[num])\n",
    "    formula_list.append(ss.composition.reduced_formula)\n",
    "    structure_list.append(ss.as_dict())\n",
    "    label_list.append(labels[num])\n",
    "    \n",
    "df_dict[\"index\"] = index_list\n",
    "df_dict[\"formula\"] = formula_list\n",
    "df_dict[\"structure\"] = structure_list\n",
    "df_dict[\"description\"] = desc\n",
    "df_dict[prefix] = label_list\n",
    "\n",
    "# save to csv file : index, formula,structure,description,exfoliation_en\n",
    "# 创建文件夹（如果不存在）\n",
    "if not os.path.exists(f'data/{data_directory_name}'):\n",
    "    os.makedirs(f'data/{data_directory_name}')\n",
    "file_path = f'data/{data_directory_name}/{prefix}.csv'\n",
    "df = pd.DataFrame(df_dict)  \n",
    "df.to_csv(file_path,index=False)\n"
   ]
  },
  {
   "cell_type": "markdown",
   "metadata": {},
   "source": []
  },
  {
   "cell_type": "code",
   "execution_count": null,
   "metadata": {},
   "outputs": [
    {
     "data": {
      "text/plain": [
       "10"
      ]
     },
     "execution_count": 4,
     "metadata": {},
     "output_type": "execute_result"
    }
   ],
   "source": []
  },
  {
   "cell_type": "code",
   "execution_count": null,
   "metadata": {},
   "outputs": [
    {
     "data": {
      "text/plain": [
       "'Zr(HPO3)2. crystallizes in the trigonal P-3m1 space group. The structure is two-dimensional and consists of one Zr(HPO3)2. sheet oriented in the (0, 0, 1) direction. Zr2+ is bonded to six equivalent O2- atoms to form ZrO6 octahedra that share corners with six equivalent PHO3 tetrahedra. All Zr-O bond lengths are 2.08 Å. P5+ is bonded to one H and three equivalent O2- atoms to form distorted PHO3 tetrahedra that share corners with three equivalent ZrO6 octahedra. The corner-sharing octahedral tilt angles are 18°. The P-H bond length is 1.40 Å. All P-O bond lengths are 1.53 Å. H is bonded in a single-bond geometry to one P5+ atom. O2- is bonded in a distorted bent 150 degrees geometry to one Zr2+ and one P5+ atom.'"
      ]
     },
     "execution_count": 23,
     "metadata": {},
     "output_type": "execute_result"
    }
   ],
   "source": [
    "description"
   ]
  },
  {
   "cell_type": "code",
   "execution_count": null,
   "metadata": {},
   "outputs": [],
   "source": [
    "from inflect import engine\n",
    "\n",
    "# 假设 orientations 是 [(0, 0, 1)]\n",
    "# s_direction 应该是一个字符串，例如 \"direction\"\n",
    "# 如果 s_direction 不是字符串，您需要将其转换为字符串\n",
    "s_direction = \"direction\"  # 或者其他您想要的方向字符串\n",
    "orientations = [(0, 0, 1)]\n",
    "en = inflect.engine()\n",
    "# 将 orientations 中的每个元组转换为字符串，例如 \"(0, 0, 1)\"\n",
    "orientations_str = [\"({})\".format(\", \".join(map(str, orientation))) for orientation in orientations]\n",
    "# 使用 join 方法连接字符串\n",
    "orientations_joined = en.join(orientations_str)\n",
    "\n",
    "# 格式化字符串并添加到 comp_desc\n",
    "# comp_desc += \" oriented in the {} {}\".format(orientations_joined, s_direction)"
   ]
  },
  {
   "cell_type": "markdown",
   "metadata": {},
   "source": [
    "## test"
   ]
  },
  {
   "cell_type": "code",
   "execution_count": null,
   "metadata": {},
   "outputs": [
    {
     "data": {
      "text/plain": [
       "'Na₃Bi(P₂O₇)₂ crystallizes in the triclinic P̅1 space group. There are three inequivalent Na¹⁺ sites. In the first Na¹⁺ site, Na¹⁺ is bonded to five O²⁻ atoms to form NaO₅ square pyramids that share corners with five PO₄ tetrahedra. There are a spread of Na-O bond distances ranging from 2.2967-2.4126 Å. In the second Na¹⁺ site, Na¹⁺ is bonded in a 5-coordinate geometry to five O²⁻ atoms. There are a spread of Na-O bond distances ranging from 2.3059-2.5941 Å. In the third Na¹⁺ site, Na¹⁺ is bonded in a 8-coordinate geometry to eight O²⁻ atoms. There are a spread of Na-O bond distances ranging from 2.2914-3.0838 Å. Bi⁵⁺ is bonded in a 7-coordinate geometry to seven O²⁻ atoms. There are a spread of Bi-O bond distances ranging from 2.2680-2.7539 Å. There are four inequivalent P⁵⁺ sites. In the first P⁵⁺ site, P⁵⁺ is bonded to four O²⁻ atoms to form PO₄ tetrahedra that share  a cornercorner with one NaO₅ square pyramid and  a cornercorner with one PO₄ tetrahedra. There are a spread of P-O bond distances ranging from 1.5247-1.6360 Å. In the second P⁵⁺ site, P⁵⁺ is bonded to four O²⁻ atoms to form PO₄ tetrahedra that share corners with two equivalent NaO₅ square pyramids and  a cornercorner with one PO₄ tetrahedra. There are a spread of P-O bond distances ranging from 1.5218-1.6174 Å. In the third P⁵⁺ site, P⁵⁺ is bonded to four O²⁻ atoms to form PO₄ tetrahedra that share  a cornercorner with one NaO₅ square pyramid and  a cornercorner with one PO₄ tetrahedra. There are a spread of P-O bond distances ranging from 1.5293-1.6429 Å. In the fourth P⁵⁺ site, P⁵⁺ is bonded to four O²⁻ atoms to form PO₄ tetrahedra that share  a cornercorner with one NaO₅ square pyramid and  a cornercorner with one PO₄ tetrahedra. There are a spread of P-O bond distances ranging from 1.5085-1.6276 Å. There are fourteen inequivalent O²⁻ sites. In the first O²⁻ site, O²⁻ is bonded in a distorted single-bond geometry to one Bi⁵⁺ and one P⁵⁺ atom. In the second O²⁻ site, O²⁻ is bonded in a 2-coordinate geometry to one Na¹⁺, one Bi⁵⁺, and one P⁵⁺ atom. In the third O²⁻ site, O²⁻ is bonded in a distorted single-bond geometry to one Bi⁵⁺ and one P⁵⁺ atom. In the fourth O²⁻ site, O²⁻ is bonded in a 3-coordinate geometry to one Na¹⁺, one Bi⁵⁺, and one P⁵⁺ atom. In the fifth O²⁻ site, O²⁻ is bonded in a distorted trigonal planar geometry to one Na¹⁺, one Bi⁵⁺, and one P⁵⁺ atom. In the sixth O²⁻ site, O²⁻ is bonded in a distorted trigonal planar geometry to two Na¹⁺ and one P⁵⁺ atom. In the seventh O²⁻ site, O²⁻ is bonded in a bent 120 degrees geometry to two P⁵⁺ atoms. In the eighth O²⁻ site, O²⁻ is bonded in a 3-coordinate geometry to three Na¹⁺ and one P⁵⁺ atom. In the ninth O²⁻ site, O²⁻ is bonded in a 4-coordinate geometry to three Na¹⁺ and one P⁵⁺ atom. In the tenth O²⁻ site, O²⁻ is bonded in a bent 120 degrees geometry to two P⁵⁺ atoms. In the eleventh O²⁻ site, O²⁻ is bonded in a 3-coordinate geometry to one Na¹⁺, one Bi⁵⁺, and one P⁵⁺ atom. In the twelfth O²⁻ site, O²⁻ is bonded in a distorted single-bond geometry to one Na¹⁺, one Bi⁵⁺, and one P⁵⁺ atom. In the thirteenth O²⁻ site, O²⁻ is bonded in a 3-coordinate geometry to three Na¹⁺ and one P⁵⁺ atom. In the fourteenth O²⁻ site, O²⁻ is bonded in a 3-coordinate geometry to two equivalent Na¹⁺ and one P⁵⁺ atom.'"
      ]
     },
     "execution_count": 3,
     "metadata": {},
     "output_type": "execute_result"
    }
   ],
   "source": [
    "description"
   ]
  },
  {
   "cell_type": "code",
   "execution_count": null,
   "metadata": {},
   "outputs": [
    {
     "data": {
      "text/plain": [
       "'Na₃Bi(P₂O₇)₂ crystallizes in the triclinic P̅1 space group. There are three inequivalent Na¹⁺ sites. In the first Na¹⁺ site, Na¹⁺ is bonded to five O²⁻ atoms to form NaO₅ square pyramids that share corners with five PO₄ tetrahedra. There are a spread of Na-O bond distances ranging from 2.2967-2.4126 Å. In the second Na¹⁺ site, Na¹⁺ is bonded in a 5-coordinate geometry to five O²⁻ atoms. There are a spread of Na-O bond distances ranging from 2.3059-2.5941 Å. In the third Na¹⁺ site, Na¹⁺ is bonded in a 8-coordinate geometry to eight O²⁻ atoms. There are a spread of Na-O bond distances ranging from 2.2914-3.0838 Å. Bi⁵⁺ is bonded in a 7-coordinate geometry to seven O²⁻ atoms. There are a spread of Bi-O bond distances ranging from 2.2680-2.7539 Å. There are four inequivalent P⁵⁺ sites. In the first P⁵⁺ site, P⁵⁺ is bonded to four O²⁻ atoms to form PO₄ tetrahedra that share  a cornercorner with one NaO₅ square pyramid and  a cornercorner with one PO₄ tetrahedra. There are a spread of P-O bond distances ranging from 1.5247-1.6360 Å. In the second P⁵⁺ site, P⁵⁺ is bonded to four O²⁻ atoms to form PO₄ tetrahedra that share corners with two equivalent NaO₅ square pyramids and  a cornercorner with one PO₄ tetrahedra. There are a spread of P-O bond distances ranging from 1.5218-1.6174 Å. In the third P⁵⁺ site, P⁵⁺ is bonded to four O²⁻ atoms to form PO₄ tetrahedra that share  a cornercorner with one NaO₅ square pyramid and  a cornercorner with one PO₄ tetrahedra. There are a spread of P-O bond distances ranging from 1.5293-1.6429 Å. In the fourth P⁵⁺ site, P⁵⁺ is bonded to four O²⁻ atoms to form PO₄ tetrahedra that share  a cornercorner with one NaO₅ square pyramid and  a cornercorner with one PO₄ tetrahedra. There are a spread of P-O bond distances ranging from 1.5085-1.6276 Å. There are fourteen inequivalent O²⁻ sites. In the first O²⁻ site, O²⁻ is bonded in a distorted single-bond geometry to one Bi⁵⁺ and one P⁵⁺ atom. In the second O²⁻ site, O²⁻ is bonded in a 2-coordinate geometry to one Na¹⁺, one Bi⁵⁺, and one P⁵⁺ atom. In the third O²⁻ site, O²⁻ is bonded in a distorted single-bond geometry to one Bi⁵⁺ and one P⁵⁺ atom. In the fourth O²⁻ site, O²⁻ is bonded in a 3-coordinate geometry to one Na¹⁺, one Bi⁵⁺, and one P⁵⁺ atom. In the fifth O²⁻ site, O²⁻ is bonded in a distorted trigonal planar geometry to one Na¹⁺, one Bi⁵⁺, and one P⁵⁺ atom. In the sixth O²⁻ site, O²⁻ is bonded in a distorted trigonal planar geometry to two Na¹⁺ and one P⁵⁺ atom. In the seventh O²⁻ site, O²⁻ is bonded in a bent 120 degrees geometry to two P⁵⁺ atoms. In the eighth O²⁻ site, O²⁻ is bonded in a 3-coordinate geometry to three Na¹⁺ and one P⁵⁺ atom. In the ninth O²⁻ site, O²⁻ is bonded in a 4-coordinate geometry to three Na¹⁺ and one P⁵⁺ atom. In the tenth O²⁻ site, O²⁻ is bonded in a bent 120 degrees geometry to two P⁵⁺ atoms. In the eleventh O²⁻ site, O²⁻ is bonded in a 3-coordinate geometry to one Na¹⁺, one Bi⁵⁺, and one P⁵⁺ atom. In the twelfth O²⁻ site, O²⁻ is bonded in a distorted single-bond geometry to one Na¹⁺, one Bi⁵⁺, and one P⁵⁺ atom. In the thirteenth O²⁻ site, O²⁻ is bonded in a 3-coordinate geometry to three Na¹⁺ and one P⁵⁺ atom. In the fourteenth O²⁻ site, O²⁻ is bonded in a 3-coordinate geometry to two equivalent Na¹⁺ and one P⁵⁺ atom.'"
      ]
     },
     "execution_count": 13,
     "metadata": {},
     "output_type": "execute_result"
    }
   ],
   "source": [
    "description"
   ]
  },
  {
   "cell_type": "code",
   "execution_count": null,
   "metadata": {},
   "outputs": [],
   "source": [
    "\"Na₃Bi(P₂O₇)₂ crystallizes in the triclinic P̅1 space group. There are three inequivalent Na¹⁺ sites. In the first Na¹⁺ site, Na¹⁺ is bonded to five O²⁻ atoms to form NaO₅ square pyramids that share corners with five PO₄ tetrahedra. There are a spread of Na–O bond distances ranging from 2.30–2.41 Å. In the second Na¹⁺ site, Na¹⁺ is bonded in a 5-coordinate geometry to five O²⁻ atoms. There are a spread of Na–O bond distances ranging from 2.31–2.59 Å. In the third Na¹⁺ site, Na¹⁺ is bonded in a 8-coordinate geometry to eight O²⁻ atoms. There are a spread of Na–O bond distances ranging from 2.29–3.08 Å. Bi⁵⁺ is bonded in a 7-coordinate geometry to seven O²⁻ atoms. There are a spread of Bi–O bond distances ranging from 2.27–2.75 Å. There are four inequivalent P⁵⁺ sites. In the first P⁵⁺ site, P⁵⁺ is bonded to four O²⁻ atoms to form PO₄ tetrahedra that share  a cornercorner with one NaO₅ square pyramid and  a cornercorner with one PO₄ tetrahedra. There are a spread of P–O bond distances ranging from 1.52–1.64 Å. In the second P⁵⁺ site, P⁵⁺ is bonded to four O²⁻ atoms to form PO₄ tetrahedra that share corners with two equivalent NaO₅ square pyramids and  a cornercorner with one PO₄ tetrahedra. There are a spread of P–O bond distances ranging from 1.52–1.62 Å. In the third P⁵⁺ site, P⁵⁺ is bonded to four O²⁻ atoms to form PO₄ tetrahedra that share  a cornercorner with one NaO₅ square pyramid and  a cornercorner with one PO₄ tetrahedra. There are a spread of P–O bond distances ranging from 1.53–1.64 Å. In the fourth P⁵⁺ site, P⁵⁺ is bonded to four O²⁻ atoms to form PO₄ tetrahedra that share  a cornercorner with one NaO₅ square pyramid and  a cornercorner with one PO₄ tetrahedra. There are a spread of P–O bond distances ranging from 1.51–1.63 Å. There are fourteen inequivalent O²⁻ sites. In the first O²⁻ site, O²⁻ is bonded in a distorted single-bond geometry to one Bi⁵⁺ and one P⁵⁺ atom. In the second O²⁻ site, O²⁻ is bonded in a 2-coordinate geometry to one Na¹⁺, one Bi⁵⁺, and one P⁵⁺ atom. In the third O²⁻ site, O²⁻ is bonded in a distorted single-bond geometry to one Bi⁵⁺ and one P⁵⁺ atom. In the fourth O²⁻ site, O²⁻ is bonded in a 3-coordinate geometry to one Na¹⁺, one Bi⁵⁺, and one P⁵⁺ atom. In the fifth O²⁻ site, O²⁻ is bonded in a distorted trigonal planar geometry to one Na¹⁺, one Bi⁵⁺, and one P⁵⁺ atom. In the sixth O²⁻ site, O²⁻ is bonded in a distorted trigonal planar geometry to two Na¹⁺ and one P⁵⁺ atom. In the seventh O²⁻ site, O²⁻ is bonded in a bent 120 degrees geometry to two P⁵⁺ atoms. In the eighth O²⁻ site, O²⁻ is bonded in a 3-coordinate geometry to three Na¹⁺ and one P⁵⁺ atom. In the ninth O²⁻ site, O²⁻ is bonded in a 4-coordinate geometry to three Na¹⁺ and one P⁵⁺ atom. In the tenth O²⁻ site, O²⁻ is bonded in a bent 120 degrees geometry to two P⁵⁺ atoms. In the eleventh O²⁻ site, O²⁻ is bonded in a 3-coordinate geometry to one Na¹⁺, one Bi⁵⁺, and one P⁵⁺ atom. In the twelfth O²⁻ site, O²⁻ is bonded in a distorted single-bond geometry to one Na¹⁺, one Bi⁵⁺, and one P⁵⁺ atom. In the thirteenth O²⁻ site, O²⁻ is bonded in a 3-coordinate geometry to three Na¹⁺ and one P⁵⁺ atom. In the fourteenth O²⁻ site, O²⁻ is bonded in a 3-coordinate geometry to two equivalent Na¹⁺ and one P⁵⁺ atom.\"\n"
   ]
  },
  {
   "cell_type": "code",
   "execution_count": null,
   "metadata": {},
   "outputs": [
    {
     "data": {
      "text/plain": [
       "'Na₃Bi(P₂O₇)₂ crystallizes in the triclinic P̅1 space group. There are three inequivalent Na sites. In the first Na site, Na is bonded to five O atoms to form NaO₅ square pyramids that share corners with five PO₄ tetrahedra. There are a spread of Na-O bond distances ranging from 2.2967-2.4126 Å. In the second Na site, Na is bonded in a 5-coordinate geometry to five O atoms. There are a spread of Na-O bond distances ranging from 2.3059-2.5941 Å. In the third Na site, Na is bonded in a 6-coordinate geometry to six O atoms. There are a spread of Na-O bond distances ranging from 2.2914-2.7846 Å. Bi is bonded in a 7-coordinate geometry to seven O atoms. There are a spread of Bi-O bond distances ranging from 2.2680-2.7539 Å. There are four inequivalent P sites. In the first P site, P is bonded to four O atoms to form PO₄ tetrahedra that share  a cornercorner with one NaO₅ square pyramid and  a cornercorner with one PO₄ tetrahedra. There are a spread of P-O bond distances ranging from 1.5247-1.6360 Å. In the second P site, P is bonded to four O atoms to form PO₄ tetrahedra that share corners with two equivalent NaO₅ square pyramids and  a cornercorner with one PO₄ tetrahedra. There are a spread of P-O bond distances ranging from 1.5218-1.6174 Å. In the third P site, P is bonded to four O atoms to form PO₄ tetrahedra that share  a cornercorner with one NaO₅ square pyramid and  a cornercorner with one PO₄ tetrahedra. There are a spread of P-O bond distances ranging from 1.5293-1.6429 Å. In the fourth P site, P is bonded to four O atoms to form PO₄ tetrahedra that share  a cornercorner with one NaO₅ square pyramid and  a cornercorner with one PO₄ tetrahedra. There are a spread of P-O bond distances ranging from 1.5085-1.6276 Å. There are fourteen inequivalent O sites. In the first O site, O is bonded in a distorted bent 120 degrees geometry to one Bi and one P atom. In the second O site, O is bonded in a 2-coordinate geometry to one Na, one Bi, and one P atom. In the third O site, O is bonded in a distorted single-bond geometry to one Bi and one P atom. In the fourth O site, O is bonded in a 3-coordinate geometry to one Na, one Bi, and one P atom. In the fifth O site, O is bonded in a trigonal planar geometry to one Na, one Bi, and one P atom. In the sixth O site, O is bonded in a distorted trigonal planar geometry to two Na and one P atom. In the seventh O site, O is bonded in a bent 120 degrees geometry to two P atoms. In the eighth O site, O is bonded in a 3-coordinate geometry to two Na and one P atom. In the ninth O site, O is bonded in a 4-coordinate geometry to three Na and one P atom. In the tenth O site, O is bonded in a bent 120 degrees geometry to two P atoms. In the eleventh O site, O is bonded in a 3-coordinate geometry to one Na, one Bi, and one P atom. In the twelfth O site, O is bonded in a distorted single-bond geometry to one Na, one Bi, and one P atom. In the thirteenth O site, O is bonded in a 3-coordinate geometry to two equivalent Na and one P atom. In the fourteenth O site, O is bonded in a 3-coordinate geometry to two equivalent Na and one P atom.'"
      ]
     },
     "execution_count": 4,
     "metadata": {},
     "output_type": "execute_result"
    }
   ],
   "source": [
    "description"
   ]
  },
  {
   "cell_type": "code",
   "execution_count": null,
   "metadata": {},
   "outputs": [
    {
     "data": {
      "text/plain": [
       "'Na₃Bi(P₂O₇)₂ crystallizes in the triclinic P̅1 space group. There are three inequivalent Na sites. In the first Na site, Na is bonded to five O atoms to form NaO₅ square pyramids that share corners with five PO₄ tetrahedra. There are a spread of Na-O bond distances ranging from 2.2967-2.4126 Å. In the second Na site, Na is bonded in a 5-coordinate geometry to five O atoms. There are a spread of Na-O bond distances ranging from 2.3059-2.5941 Å. In the third Na site, Na is bonded in a 6-coordinate geometry to six O atoms. There are a spread of Na-O bond distances ranging from 2.2914-2.7846 Å. Bi is bonded in a 7-coordinate geometry to seven O atoms. There are a spread of Bi-O bond distances ranging from 2.2680-2.7539 Å. There are four inequivalent P sites. In the first P site, P is bonded to four O atoms to form PO₄ tetrahedra that share  a cornercorner with one NaO₅ square pyramid and  a cornercorner with one PO₄ tetrahedra. There are a spread of P-O bond distances ranging from 1.5247-1.6360 Å. In the second P site, P is bonded to four O atoms to form PO₄ tetrahedra that share corners with two equivalent NaO₅ square pyramids and  a cornercorner with one PO₄ tetrahedra. There are a spread of P-O bond distances ranging from 1.5218-1.6174 Å. In the third P site, P is bonded to four O atoms to form PO₄ tetrahedra that share  a cornercorner with one NaO₅ square pyramid and  a cornercorner with one PO₄ tetrahedra. There are a spread of P-O bond distances ranging from 1.5293-1.6429 Å. In the fourth P site, P is bonded to four O atoms to form PO₄ tetrahedra that share  a cornercorner with one NaO₅ square pyramid and  a cornercorner with one PO₄ tetrahedra. There are a spread of P-O bond distances ranging from 1.5085-1.6276 Å. There are fourteen inequivalent O sites. In the first O site, O is bonded in a distorted bent 120 degrees geometry to one Bi and one P atom. In the second O site, O is bonded in a 2-coordinate geometry to one Na, one Bi, and one P atom. In the third O site, O is bonded in a distorted single-bond geometry to one Bi and one P atom. In the fourth O site, O is bonded in a 3-coordinate geometry to one Na, one Bi, and one P atom. In the fifth O site, O is bonded in a trigonal planar geometry to one Na, one Bi, and one P atom. In the sixth O site, O is bonded in a distorted trigonal planar geometry to two Na and one P atom. In the seventh O site, O is bonded in a bent 120 degrees geometry to two P atoms. In the eighth O site, O is bonded in a 3-coordinate geometry to two Na and one P atom. In the ninth O site, O is bonded in a 4-coordinate geometry to three Na and one P atom. In the tenth O site, O is bonded in a bent 120 degrees geometry to two P atoms. In the eleventh O site, O is bonded in a 3-coordinate geometry to one Na, one Bi, and one P atom. In the twelfth O site, O is bonded in a distorted single-bond geometry to one Na, one Bi, and one P atom. In the thirteenth O site, O is bonded in a 3-coordinate geometry to two equivalent Na and one P atom. In the fourteenth O site, O is bonded in a 3-coordinate geometry to two equivalent Na and one P atom.'"
      ]
     },
     "execution_count": 31,
     "metadata": {},
     "output_type": "execute_result"
    }
   ],
   "source": [
    "# describe_symmetry_labels\n",
    "description"
   ]
  },
  {
   "cell_type": "code",
   "execution_count": null,
   "metadata": {},
   "outputs": [
    {
     "data": {
      "text/plain": [
       "'Na₃Bi(P₂O₇)₂ crystallizes in the triclinic P̅1 space group.'"
      ]
     },
     "execution_count": 29,
     "metadata": {},
     "output_type": "execute_result"
    }
   ],
   "source": [
    "# describe_components\n",
    "description"
   ]
  },
  {
   "cell_type": "code",
   "execution_count": null,
   "metadata": {},
   "outputs": [
    {
     "data": {
      "text/plain": [
       "'There are three inequivalent Na sites. In the first Na site, Na(1) is bonded to one O(2), one O(4), one O(6), one O(8), and one O(9) atom to form NaO₅ square pyramids that share  a cornercorner with one P(1)O₄ tetrahedra,  a cornercorner with one P(3)O₄ tetrahedra,  a cornercorner with one P(4)O₄ tetrahedra, and corners with two equivalent P(2)O₄ tetrahedra. The Na(1)-O(2) bond length is 2.3943 Å. The Na(1)-O(4) bond length is 2.3800 Å. The Na(1)-O(6) bond length is 2.2967 Å. The Na(1)-O(8) bond length is 2.4126 Å. The Na(1)-O(9) bond length is 2.3202 Å. In the second Na site, Na(2) is bonded in a 5-coordinate geometry to one O(5), one O(8), one O(9), and two equivalent O(13) atoms. The Na(2)-O(5) bond length is 2.3779 Å. The Na(2)-O(8) bond length is 2.3059 Å. The Na(2)-O(9) bond length is 2.5746 Å. There is one shorter (2.3128 Å) and one longer (2.5941 Å) Na(2)-O(13) bond length. In the third Na site, Na(3) is bonded in a 6-coordinate geometry to one O(11), one O(12), one O(6), one O(9), and two equivalent O(14) atoms. The Na(3)-O(11) bond length is 2.4383 Å. The Na(3)-O(12) bond length is 2.5996 Å. The Na(3)-O(6) bond length is 2.2914 Å. The Na(3)-O(9) bond length is 2.7846 Å. There is one shorter (2.4100 Å) and one longer (2.5929 Å) Na(3)-O(14) bond length. Bi(1) is bonded in a 7-coordinate geometry to one O(1), one O(11), one O(12), one O(2), one O(3), one O(4), and one O(5) atom. The Bi(1)-O(1) bond length is 2.3638 Å. The Bi(1)-O(11) bond length is 2.3565 Å. The Bi(1)-O(12) bond length is 2.3203 Å. The Bi(1)-O(2) bond length is 2.7539 Å. The Bi(1)-O(3) bond length is 2.6164 Å. The Bi(1)-O(4) bond length is 2.5334 Å. The Bi(1)-O(5) bond length is 2.2680 Å. There are four inequivalent P sites. In the first P site, P(1) is bonded to one O(2), one O(3), one O(5), and one O(7) atom to form PO₄ tetrahedra that share  a cornercorner with one Na(1)O₅ square pyramid and  a cornercorner with one P(3)O₄ tetrahedra. The P(1)-O(2) bond length is 1.5247 Å. The P(1)-O(3) bond length is 1.5304 Å. The P(1)-O(5) bond length is 1.5623 Å. The P(1)-O(7) bond length is 1.6360 Å. In the second P site, P(2) is bonded to one O(1), one O(10), one O(4), and one O(6) atom to form PO₄ tetrahedra that share corners with two equivalent Na(1)O₅ square pyramids and  a cornercorner with one P(4)O₄ tetrahedra. The P(2)-O(1) bond length is 1.5334 Å. The P(2)-O(10) bond length is 1.6174 Å. The P(2)-O(4) bond length is 1.5453 Å. The P(2)-O(6) bond length is 1.5218 Å. In the third P site, P(3) is bonded to one O(11), one O(13), one O(7), and one O(9) atom to form PO₄ tetrahedra that share  a cornercorner with one Na(1)O₅ square pyramid and  a cornercorner with one P(1)O₄ tetrahedra. The P(3)-O(11) bond length is 1.5318 Å. The P(3)-O(13) bond length is 1.5360 Å. The P(3)-O(7) bond length is 1.6429 Å. The P(3)-O(9) bond length is 1.5293 Å. In the fourth P site, P(4) is bonded to one O(10), one O(12), one O(14), and one O(8) atom to form PO₄ tetrahedra that share  a cornercorner with one Na(1)O₅ square pyramid and  a cornercorner with one P(2)O₄ tetrahedra. The P(4)-O(10) bond length is 1.6276 Å. The P(4)-O(12) bond length is 1.5520 Å. The P(4)-O(14) bond length is 1.5319 Å. The P(4)-O(8) bond length is 1.5085 Å. There are fourteen inequivalent O sites. In the first O site, O(1) is bonded in a distorted bent 120 degrees geometry to one Bi(1) and one P(2) atom. In the second O site, O(2) is bonded in a 2-coordinate geometry to one Na(1), one Bi(1), and one P(1) atom. In the third O site, O(3) is bonded in a distorted single-bond geometry to one Bi(1) and one P(1) atom. In the fourth O site, O(4) is bonded in a 3-coordinate geometry to one Na(1), one Bi(1), and one P(2) atom. In the fifth O site, O(5) is bonded in a trigonal planar geometry to one Na(2), one Bi(1), and one P(1) atom. In the sixth O site, O(6) is bonded in a distorted trigonal planar geometry to one Na(1), one Na(3), and one P(2) atom. In the seventh O site, O(7) is bonded in a bent 120 degrees geometry to one P(1) and one P(3) atom. In the eighth O site, O(8) is bonded in a 3-coordinate geometry to one Na(1), one Na(2), and one P(4) atom. In the ninth O site, O(9) is bonded in a 4-coordinate geometry to one Na(1), one Na(2), one Na(3), and one P(3) atom. In the tenth O site, O(10) is bonded in a bent 120 degrees geometry to one P(2) and one P(4) atom. In the eleventh O site, O(11) is bonded in a 3-coordinate geometry to one Na(3), one Bi(1), and one P(3) atom. In the twelfth O site, O(12) is bonded in a distorted single-bond geometry to one Na(3), one Bi(1), and one P(4) atom. In the thirteenth O site, O(13) is bonded in a 3-coordinate geometry to two equivalent Na(2) and one P(3) atom. In the fourteenth O site, O(14) is bonded in a 3-coordinate geometry to two equivalent Na(3) and one P(4) atom.'"
      ]
     },
     "execution_count": 27,
     "metadata": {},
     "output_type": "execute_result"
    }
   ],
   "source": [
    "# describe_mineral\n",
    "description\n"
   ]
  },
  {
   "cell_type": "code",
   "execution_count": null,
   "metadata": {},
   "outputs": [
    {
     "data": {
      "text/plain": [
       "'Na₃Bi(P₂O₇)₂ crystallizes in the triclinic P̅1 space group. There are three inequivalent Na sites. In the first Na site, Na(1) is bonded in a square pyramidal geometry to one O(2), one O(4), one O(6), one O(8), and one O(9) atom. The Na(1)-O(2) bond length is 2.3943 Å. The Na(1)-O(4) bond length is 2.3800 Å. The Na(1)-O(6) bond length is 2.2967 Å. The Na(1)-O(8) bond length is 2.4126 Å. The Na(1)-O(9) bond length is 2.3202 Å. In the second Na site, Na(2) is bonded in a 5-coordinate geometry to one O(5), one O(8), one O(9), and two equivalent O(13) atoms. The Na(2)-O(5) bond length is 2.3779 Å. The Na(2)-O(8) bond length is 2.3059 Å. The Na(2)-O(9) bond length is 2.5746 Å. There is one shorter (2.3128 Å) and one longer (2.5941 Å) Na(2)-O(13) bond length. In the third Na site, Na(3) is bonded in a 6-coordinate geometry to one O(11), one O(12), one O(6), one O(9), and two equivalent O(14) atoms. The Na(3)-O(11) bond length is 2.4383 Å. The Na(3)-O(12) bond length is 2.5996 Å. The Na(3)-O(6) bond length is 2.2914 Å. The Na(3)-O(9) bond length is 2.7846 Å. There is one shorter (2.4100 Å) and one longer (2.5929 Å) Na(3)-O(14) bond length. Bi(1) is bonded in a 7-coordinate geometry to one O(1), one O(11), one O(12), one O(2), one O(3), one O(4), and one O(5) atom. The Bi(1)-O(1) bond length is 2.3638 Å. The Bi(1)-O(11) bond length is 2.3565 Å. The Bi(1)-O(12) bond length is 2.3203 Å. The Bi(1)-O(2) bond length is 2.7539 Å. The Bi(1)-O(3) bond length is 2.6164 Å. The Bi(1)-O(4) bond length is 2.5334 Å. The Bi(1)-O(5) bond length is 2.2680 Å. There are four inequivalent P sites. In the first P site, P(1) is bonded in a tetrahedral geometry to one O(2), one O(3), one O(5), and one O(7) atom. The P(1)-O(2) bond length is 1.5247 Å. The P(1)-O(3) bond length is 1.5304 Å. The P(1)-O(5) bond length is 1.5623 Å. The P(1)-O(7) bond length is 1.6360 Å. In the second P site, P(2) is bonded in a tetrahedral geometry to one O(1), one O(10), one O(4), and one O(6) atom. The P(2)-O(1) bond length is 1.5334 Å. The P(2)-O(10) bond length is 1.6174 Å. The P(2)-O(4) bond length is 1.5453 Å. The P(2)-O(6) bond length is 1.5218 Å. In the third P site, P(3) is bonded in a tetrahedral geometry to one O(11), one O(13), one O(7), and one O(9) atom. The P(3)-O(11) bond length is 1.5318 Å. The P(3)-O(13) bond length is 1.5360 Å. The P(3)-O(7) bond length is 1.6429 Å. The P(3)-O(9) bond length is 1.5293 Å. In the fourth P site, P(4) is bonded in a tetrahedral geometry to one O(10), one O(12), one O(14), and one O(8) atom. The P(4)-O(10) bond length is 1.6276 Å. The P(4)-O(12) bond length is 1.5520 Å. The P(4)-O(14) bond length is 1.5319 Å. The P(4)-O(8) bond length is 1.5085 Å. There are fourteen inequivalent O sites. In the first O site, O(1) is bonded in a distorted bent 120 degrees geometry to one Bi(1) and one P(2) atom. In the second O site, O(2) is bonded in a 2-coordinate geometry to one Na(1), one Bi(1), and one P(1) atom. In the third O site, O(3) is bonded in a distorted single-bond geometry to one Bi(1) and one P(1) atom. In the fourth O site, O(4) is bonded in a 3-coordinate geometry to one Na(1), one Bi(1), and one P(2) atom. In the fifth O site, O(5) is bonded in a trigonal planar geometry to one Na(2), one Bi(1), and one P(1) atom. In the sixth O site, O(6) is bonded in a distorted trigonal planar geometry to one Na(1), one Na(3), and one P(2) atom. In the seventh O site, O(7) is bonded in a bent 120 degrees geometry to one P(1) and one P(3) atom. In the eighth O site, O(8) is bonded in a 3-coordinate geometry to one Na(1), one Na(2), and one P(4) atom. In the ninth O site, O(9) is bonded in a 4-coordinate geometry to one Na(1), one Na(2), one Na(3), and one P(3) atom. In the tenth O site, O(10) is bonded in a bent 120 degrees geometry to one P(2) and one P(4) atom. In the eleventh O site, O(11) is bonded in a 3-coordinate geometry to one Na(3), one Bi(1), and one P(3) atom. In the twelfth O site, O(12) is bonded in a distorted single-bond geometry to one Na(3), one Bi(1), and one P(4) atom. In the thirteenth O site, O(13) is bonded in a 3-coordinate geometry to two equivalent Na(2) and one P(3) atom. In the fourteenth O site, O(14) is bonded in a 3-coordinate geometry to two equivalent Na(3) and one P(4) atom.'"
      ]
     },
     "execution_count": 25,
     "metadata": {},
     "output_type": "execute_result"
    }
   ],
   "source": [
    "# only_describe_cation_polyhedra_connectivity\n",
    "description"
   ]
  },
  {
   "cell_type": "code",
   "execution_count": null,
   "metadata": {},
   "outputs": [
    {
     "data": {
      "text/plain": [
       "'Na₃Bi(P₂O₇)₂ crystallizes in the triclinic P̅1 space group. There are three inequivalent Na sites. In the first Na site, Na(1) is bonded to one O(2), one O(4), one O(6), one O(8), and one O(9) atom to form NaO₅ square pyramids that share  a cornercorner with one P(1)O₄ tetrahedra,  a cornercorner with one P(3)O₄ tetrahedra,  a cornercorner with one P(4)O₄ tetrahedra, and corners with two equivalent P(2)O₄ tetrahedra. The Na(1)-O(2) bond length is 2.3943 Å. The Na(1)-O(4) bond length is 2.3800 Å. The Na(1)-O(6) bond length is 2.2967 Å. The Na(1)-O(8) bond length is 2.4126 Å. The Na(1)-O(9) bond length is 2.3202 Å. In the second Na site, Na(2) is bonded in a 5-coordinate geometry to one O(5), one O(8), one O(9), and two equivalent O(13) atoms. The Na(2)-O(5) bond length is 2.3779 Å. The Na(2)-O(8) bond length is 2.3059 Å. The Na(2)-O(9) bond length is 2.5746 Å. There is one shorter (2.3128 Å) and one longer (2.5941 Å) Na(2)-O(13) bond length. In the third Na site, Na(3) is bonded in a 6-coordinate geometry to one O(11), one O(12), one O(6), one O(9), and two equivalent O(14) atoms. The Na(3)-O(11) bond length is 2.4383 Å. The Na(3)-O(12) bond length is 2.5996 Å. The Na(3)-O(6) bond length is 2.2914 Å. The Na(3)-O(9) bond length is 2.7846 Å. There is one shorter (2.4100 Å) and one longer (2.5929 Å) Na(3)-O(14) bond length. Bi(1) is bonded in a 7-coordinate geometry to one O(1), one O(11), one O(12), one O(2), one O(3), one O(4), and one O(5) atom. The Bi(1)-O(1) bond length is 2.3638 Å. The Bi(1)-O(11) bond length is 2.3565 Å. The Bi(1)-O(12) bond length is 2.3203 Å. The Bi(1)-O(2) bond length is 2.7539 Å. The Bi(1)-O(3) bond length is 2.6164 Å. The Bi(1)-O(4) bond length is 2.5334 Å. The Bi(1)-O(5) bond length is 2.2680 Å. There are four inequivalent P sites. In the first P site, P(1) is bonded to one O(2), one O(3), one O(5), and one O(7) atom to form PO₄ tetrahedra that share  a cornercorner with one Na(1)O₅ square pyramid and  a cornercorner with one P(3)O₄ tetrahedra. The P(1)-O(2) bond length is 1.5247 Å. The P(1)-O(3) bond length is 1.5304 Å. The P(1)-O(5) bond length is 1.5623 Å. The P(1)-O(7) bond length is 1.6360 Å. In the second P site, P(2) is bonded to one O(1), one O(10), one O(4), and one O(6) atom to form PO₄ tetrahedra that share corners with two equivalent Na(1)O₅ square pyramids and  a cornercorner with one P(4)O₄ tetrahedra. The P(2)-O(1) bond length is 1.5334 Å. The P(2)-O(10) bond length is 1.6174 Å. The P(2)-O(4) bond length is 1.5453 Å. The P(2)-O(6) bond length is 1.5218 Å. In the third P site, P(3) is bonded to one O(11), one O(13), one O(7), and one O(9) atom to form PO₄ tetrahedra that share  a cornercorner with one Na(1)O₅ square pyramid and  a cornercorner with one P(1)O₄ tetrahedra. The P(3)-O(11) bond length is 1.5318 Å. The P(3)-O(13) bond length is 1.5360 Å. The P(3)-O(7) bond length is 1.6429 Å. The P(3)-O(9) bond length is 1.5293 Å. In the fourth P site, P(4) is bonded to one O(10), one O(12), one O(14), and one O(8) atom to form PO₄ tetrahedra that share  a cornercorner with one Na(1)O₅ square pyramid and  a cornercorner with one P(2)O₄ tetrahedra. The P(4)-O(10) bond length is 1.6276 Å. The P(4)-O(12) bond length is 1.5520 Å. The P(4)-O(14) bond length is 1.5319 Å. The P(4)-O(8) bond length is 1.5085 Å. There are fourteen inequivalent O sites. In the first O site, O(1) is bonded in a distorted bent 120 degrees geometry to one Bi(1) and one P(2) atom. In the second O site, O(2) is bonded in a 2-coordinate geometry to one Na(1), one Bi(1), and one P(1) atom. In the third O site, O(3) is bonded in a distorted single-bond geometry to one Bi(1) and one P(1) atom. In the fourth O site, O(4) is bonded in a 3-coordinate geometry to one Na(1), one Bi(1), and one P(2) atom. In the fifth O site, O(5) is bonded in a trigonal planar geometry to one Na(2), one Bi(1), and one P(1) atom. In the sixth O site, O(6) is bonded in a distorted trigonal planar geometry to one Na(1), one Na(3), and one P(2) atom. In the seventh O site, O(7) is bonded in a bent 120 degrees geometry to one P(1) and one P(3) atom. In the eighth O site, O(8) is bonded in a 3-coordinate geometry to one Na(1), one Na(2), and one P(4) atom. In the ninth O site, O(9) is bonded in a 4-coordinate geometry to one Na(1), one Na(2), one Na(3), and one P(3) atom. In the tenth O site, O(10) is bonded in a bent 120 degrees geometry to one P(2) and one P(4) atom. In the eleventh O site, O(11) is bonded in a 3-coordinate geometry to one Na(3), one Bi(1), and one P(3) atom. In the twelfth O site, O(12) is bonded in a distorted single-bond geometry to one Na(3), one Bi(1), and one P(4) atom. In the thirteenth O site, O(13) is bonded in a 3-coordinate geometry to two equivalent Na(2) and one P(3) atom. In the fourteenth O site, O(14) is bonded in a 3-coordinate geometry to two equivalent Na(3) and one P(4) atom.'"
      ]
     },
     "execution_count": 23,
     "metadata": {},
     "output_type": "execute_result"
    }
   ],
   "source": [
    "# describe_oxidation_states\n",
    "description"
   ]
  },
  {
   "cell_type": "code",
   "execution_count": null,
   "metadata": {},
   "outputs": [
    {
     "data": {
      "text/plain": [
       "'Na₃Bi(P₂O₇)₂ crystallizes in the triclinic P̅1 space group. There are three inequivalent Na sites. In the first Na site, Na(1) is bonded to one O(2), one O(4), one O(6), one O(8), and one O(9) atom to form NaO₅ square pyramids that share  a cornercorner with one P(1)O₄ tetrahedra,  a cornercorner with one P(3)O₄ tetrahedra,  a cornercorner with one P(4)O₄ tetrahedra, and corners with two equivalent P(2)O₄ tetrahedra. The Na(1)-O(2) bond length is 2.3943 Å. The Na(1)-O(4) bond length is 2.3800 Å. The Na(1)-O(6) bond length is 2.2967 Å. The Na(1)-O(8) bond length is 2.4126 Å. The Na(1)-O(9) bond length is 2.3202 Å. In the second Na site, Na(2) is bonded in a 5-coordinate geometry to one O(5), one O(8), one O(9), and two equivalent O(13) atoms. The Na(2)-O(5) bond length is 2.3779 Å. The Na(2)-O(8) bond length is 2.3059 Å. The Na(2)-O(9) bond length is 2.5746 Å. There is one shorter (2.3128 Å) and one longer (2.5941 Å) Na(2)-O(13) bond length. In the third Na site, Na(3) is bonded in a 6-coordinate geometry to one O(11), one O(12), one O(6), one O(9), and two equivalent O(14) atoms. The Na(3)-O(11) bond length is 2.4383 Å. The Na(3)-O(12) bond length is 2.5996 Å. The Na(3)-O(6) bond length is 2.2914 Å. The Na(3)-O(9) bond length is 2.7846 Å. There is one shorter (2.4100 Å) and one longer (2.5929 Å) Na(3)-O(14) bond length. Bi(1) is bonded in a 7-coordinate geometry to one O(1), one O(11), one O(12), one O(2), one O(3), one O(4), and one O(5) atom. The Bi(1)-O(1) bond length is 2.3638 Å. The Bi(1)-O(11) bond length is 2.3565 Å. The Bi(1)-O(12) bond length is 2.3203 Å. The Bi(1)-O(2) bond length is 2.7539 Å. The Bi(1)-O(3) bond length is 2.6164 Å. The Bi(1)-O(4) bond length is 2.5334 Å. The Bi(1)-O(5) bond length is 2.2680 Å. There are four inequivalent P sites. In the first P site, P(1) is bonded to one O(2), one O(3), one O(5), and one O(7) atom to form PO₄ tetrahedra that share  a cornercorner with one Na(1)O₅ square pyramid and  a cornercorner with one P(3)O₄ tetrahedra. The P(1)-O(2) bond length is 1.5247 Å. The P(1)-O(3) bond length is 1.5304 Å. The P(1)-O(5) bond length is 1.5623 Å. The P(1)-O(7) bond length is 1.6360 Å. In the second P site, P(2) is bonded to one O(1), one O(10), one O(4), and one O(6) atom to form PO₄ tetrahedra that share corners with two equivalent Na(1)O₅ square pyramids and  a cornercorner with one P(4)O₄ tetrahedra. The P(2)-O(1) bond length is 1.5334 Å. The P(2)-O(10) bond length is 1.6174 Å. The P(2)-O(4) bond length is 1.5453 Å. The P(2)-O(6) bond length is 1.5218 Å. In the third P site, P(3) is bonded to one O(11), one O(13), one O(7), and one O(9) atom to form PO₄ tetrahedra that share  a cornercorner with one Na(1)O₅ square pyramid and  a cornercorner with one P(1)O₄ tetrahedra. The P(3)-O(11) bond length is 1.5318 Å. The P(3)-O(13) bond length is 1.5360 Å. The P(3)-O(7) bond length is 1.6429 Å. The P(3)-O(9) bond length is 1.5293 Å. In the fourth P site, P(4) is bonded to one O(10), one O(12), one O(14), and one O(8) atom to form PO₄ tetrahedra that share  a cornercorner with one Na(1)O₅ square pyramid and  a cornercorner with one P(2)O₄ tetrahedra. The P(4)-O(10) bond length is 1.6276 Å. The P(4)-O(12) bond length is 1.5520 Å. The P(4)-O(14) bond length is 1.5319 Å. The P(4)-O(8) bond length is 1.5085 Å. There are fourteen inequivalent O sites. In the first O site, O(1) is bonded in a distorted bent 120 degrees geometry to one Bi(1) and one P(2) atom. In the second O site, O(2) is bonded in a 2-coordinate geometry to one Na(1), one Bi(1), and one P(1) atom. In the third O site, O(3) is bonded in a distorted single-bond geometry to one Bi(1) and one P(1) atom. In the fourth O site, O(4) is bonded in a 3-coordinate geometry to one Na(1), one Bi(1), and one P(2) atom. In the fifth O site, O(5) is bonded in a trigonal planar geometry to one Na(2), one Bi(1), and one P(1) atom. In the sixth O site, O(6) is bonded in a distorted trigonal planar geometry to one Na(1), one Na(3), and one P(2) atom. In the seventh O site, O(7) is bonded in a bent 120 degrees geometry to one P(1) and one P(3) atom. In the eighth O site, O(8) is bonded in a 3-coordinate geometry to one Na(1), one Na(2), and one P(4) atom. In the ninth O site, O(9) is bonded in a 4-coordinate geometry to one Na(1), one Na(2), one Na(3), and one P(3) atom. In the tenth O site, O(10) is bonded in a bent 120 degrees geometry to one P(2) and one P(4) atom. In the eleventh O site, O(11) is bonded in a 3-coordinate geometry to one Na(3), one Bi(1), and one P(3) atom. In the twelfth O site, O(12) is bonded in a distorted single-bond geometry to one Na(3), one Bi(1), and one P(4) atom. In the thirteenth O site, O(13) is bonded in a 3-coordinate geometry to two equivalent Na(2) and one P(3) atom. In the fourteenth O site, O(14) is bonded in a 3-coordinate geometry to two equivalent Na(3) and one P(4) atom.'"
      ]
     },
     "execution_count": 21,
     "metadata": {},
     "output_type": "execute_result"
    }
   ],
   "source": [
    "# describe_component_makeup\n",
    "description\n"
   ]
  },
  {
   "cell_type": "code",
   "execution_count": null,
   "metadata": {},
   "outputs": [
    {
     "data": {
      "text/plain": [
       "'Na₃Bi(P₂O₇)₂ crystallizes in the triclinic P̅1 space group. There are three inequivalent Na sites. In the first Na site, Na(1) is bonded to one O(2), one O(4), one O(6), one O(8), and one O(9) atom to form NaO₅ square pyramids that share  a cornercorner with one P(1)O₄ tetrahedra,  a cornercorner with one P(3)O₄ tetrahedra,  a cornercorner with one P(4)O₄ tetrahedra, and corners with two equivalent P(2)O₄ tetrahedra. The Na(1)-O(2) bond length is 2.39 Å. The Na(1)-O(4) bond length is 2.38 Å. The Na(1)-O(6) bond length is 2.30 Å. The Na(1)-O(8) bond length is 2.41 Å. The Na(1)-O(9) bond length is 2.32 Å. In the second Na site, Na(2) is bonded in a 5-coordinate geometry to one O(5), one O(8), one O(9), and two equivalent O(13) atoms. The Na(2)-O(5) bond length is 2.38 Å. The Na(2)-O(8) bond length is 2.31 Å. The Na(2)-O(9) bond length is 2.57 Å. There is one shorter (2.31 Å) and one longer (2.59 Å) Na(2)-O(13) bond length. In the third Na site, Na(3) is bonded in a 6-coordinate geometry to one O(11), one O(12), one O(6), one O(9), and two equivalent O(14) atoms. The Na(3)-O(11) bond length is 2.44 Å. The Na(3)-O(12) bond length is 2.60 Å. The Na(3)-O(6) bond length is 2.29 Å. The Na(3)-O(9) bond length is 2.78 Å. There is one shorter (2.41 Å) and one longer (2.59 Å) Na(3)-O(14) bond length. Bi(1) is bonded in a 7-coordinate geometry to one O(1), one O(11), one O(12), one O(2), one O(3), one O(4), and one O(5) atom. The Bi(1)-O(1) bond length is 2.36 Å. The Bi(1)-O(11) bond length is 2.36 Å. The Bi(1)-O(12) bond length is 2.32 Å. The Bi(1)-O(2) bond length is 2.75 Å. The Bi(1)-O(3) bond length is 2.62 Å. The Bi(1)-O(4) bond length is 2.53 Å. The Bi(1)-O(5) bond length is 2.27 Å. There are four inequivalent P sites. In the first P site, P(1) is bonded to one O(2), one O(3), one O(5), and one O(7) atom to form PO₄ tetrahedra that share  a cornercorner with one Na(1)O₅ square pyramid and  a cornercorner with one P(3)O₄ tetrahedra. The P(1)-O(2) bond length is 1.52 Å. The P(1)-O(3) bond length is 1.53 Å. The P(1)-O(5) bond length is 1.56 Å. The P(1)-O(7) bond length is 1.64 Å. In the second P site, P(2) is bonded to one O(1), one O(10), one O(4), and one O(6) atom to form PO₄ tetrahedra that share corners with two equivalent Na(1)O₅ square pyramids and  a cornercorner with one P(4)O₄ tetrahedra. The P(2)-O(1) bond length is 1.53 Å. The P(2)-O(10) bond length is 1.62 Å. The P(2)-O(4) bond length is 1.55 Å. The P(2)-O(6) bond length is 1.52 Å. In the third P site, P(3) is bonded to one O(11), one O(13), one O(7), and one O(9) atom to form PO₄ tetrahedra that share  a cornercorner with one Na(1)O₅ square pyramid and  a cornercorner with one P(1)O₄ tetrahedra. The P(3)-O(11) bond length is 1.53 Å. The P(3)-O(13) bond length is 1.54 Å. The P(3)-O(7) bond length is 1.64 Å. The P(3)-O(9) bond length is 1.53 Å. In the fourth P site, P(4) is bonded to one O(10), one O(12), one O(14), and one O(8) atom to form PO₄ tetrahedra that share  a cornercorner with one Na(1)O₅ square pyramid and  a cornercorner with one P(2)O₄ tetrahedra. The P(4)-O(10) bond length is 1.63 Å. The P(4)-O(12) bond length is 1.55 Å. The P(4)-O(14) bond length is 1.53 Å. The P(4)-O(8) bond length is 1.51 Å. There are fourteen inequivalent O sites. In the first O site, O(1) is bonded in a distorted bent 120 degrees geometry to one Bi(1) and one P(2) atom. In the second O site, O(2) is bonded in a 2-coordinate geometry to one Na(1), one Bi(1), and one P(1) atom. In the third O site, O(3) is bonded in a distorted single-bond geometry to one Bi(1) and one P(1) atom. In the fourth O site, O(4) is bonded in a 3-coordinate geometry to one Na(1), one Bi(1), and one P(2) atom. In the fifth O site, O(5) is bonded in a trigonal planar geometry to one Na(2), one Bi(1), and one P(1) atom. In the sixth O site, O(6) is bonded in a distorted trigonal planar geometry to one Na(1), one Na(3), and one P(2) atom. In the seventh O site, O(7) is bonded in a bent 120 degrees geometry to one P(1) and one P(3) atom. In the eighth O site, O(8) is bonded in a 3-coordinate geometry to one Na(1), one Na(2), and one P(4) atom. In the ninth O site, O(9) is bonded in a 4-coordinate geometry to one Na(1), one Na(2), one Na(3), and one P(3) atom. In the tenth O site, O(10) is bonded in a bent 120 degrees geometry to one P(2) and one P(4) atom. In the eleventh O site, O(11) is bonded in a 3-coordinate geometry to one Na(3), one Bi(1), and one P(3) atom. In the twelfth O site, O(12) is bonded in a distorted single-bond geometry to one Na(3), one Bi(1), and one P(4) atom. In the thirteenth O site, O(13) is bonded in a 3-coordinate geometry to two equivalent Na(2) and one P(3) atom. In the fourteenth O site, O(14) is bonded in a 3-coordinate geometry to two equivalent Na(3) and one P(4) atom.'"
      ]
     },
     "execution_count": 19,
     "metadata": {},
     "output_type": "execute_result"
    }
   ],
   "source": [
    "# all\n",
    "description"
   ]
  },
  {
   "cell_type": "code",
   "execution_count": null,
   "metadata": {},
   "outputs": [
    {
     "data": {
      "text/plain": [
       "'Na$_{3}$Bi(P$_{2}$O$_{7}$)$_{2}$ crystallizes in the triclinic P$\\\\overline{1}$ space group. There are three inequivalent Na sites. In the first Na site, Na(1) is bonded to one O(2), one O(4), one O(6), one O(8), and one O(9) atom to form NaO$_{5}$ square pyramids that share  a cornercorner with one P(1)O$_{4}$ tetrahedra,  a cornercorner with one P(3)O$_{4}$ tetrahedra,  a cornercorner with one P(4)O$_{4}$ tetrahedra, and corners with two equivalent P(2)O$_{4}$ tetrahedra. The Na(1)-O(2) bond length is 2.39 $\\\\AA$. The Na(1)-O(4) bond length is 2.38 $\\\\AA$. The Na(1)-O(6) bond length is 2.30 $\\\\AA$. The Na(1)-O(8) bond length is 2.41 $\\\\AA$. The Na(1)-O(9) bond length is 2.32 $\\\\AA$. In the second Na site, Na(2) is bonded in a 5-coordinate geometry to one O(5), one O(8), one O(9), and two equivalent O(13) atoms. The Na(2)-O(5) bond length is 2.38 $\\\\AA$. The Na(2)-O(8) bond length is 2.31 $\\\\AA$. The Na(2)-O(9) bond length is 2.57 $\\\\AA$. There is one shorter (2.31 $\\\\AA$) and one longer (2.59 $\\\\AA$) Na(2)-O(13) bond length. In the third Na site, Na(3) is bonded in a 6-coordinate geometry to one O(11), one O(12), one O(6), one O(9), and two equivalent O(14) atoms. The Na(3)-O(11) bond length is 2.44 $\\\\AA$. The Na(3)-O(12) bond length is 2.60 $\\\\AA$. The Na(3)-O(6) bond length is 2.29 $\\\\AA$. The Na(3)-O(9) bond length is 2.78 $\\\\AA$. There is one shorter (2.41 $\\\\AA$) and one longer (2.59 $\\\\AA$) Na(3)-O(14) bond length. Bi(1) is bonded in a 7-coordinate geometry to one O(1), one O(11), one O(12), one O(2), one O(3), one O(4), and one O(5) atom. The Bi(1)-O(1) bond length is 2.36 $\\\\AA$. The Bi(1)-O(11) bond length is 2.36 $\\\\AA$. The Bi(1)-O(12) bond length is 2.32 $\\\\AA$. The Bi(1)-O(2) bond length is 2.75 $\\\\AA$. The Bi(1)-O(3) bond length is 2.62 $\\\\AA$. The Bi(1)-O(4) bond length is 2.53 $\\\\AA$. The Bi(1)-O(5) bond length is 2.27 $\\\\AA$. There are four inequivalent P sites. In the first P site, P(1) is bonded to one O(2), one O(3), one O(5), and one O(7) atom to form PO$_{4}$ tetrahedra that share  a cornercorner with one Na(1)O$_{5}$ square pyramid and  a cornercorner with one P(3)O$_{4}$ tetrahedra. The P(1)-O(2) bond length is 1.52 $\\\\AA$. The P(1)-O(3) bond length is 1.53 $\\\\AA$. The P(1)-O(5) bond length is 1.56 $\\\\AA$. The P(1)-O(7) bond length is 1.64 $\\\\AA$. In the second P site, P(2) is bonded to one O(1), one O(10), one O(4), and one O(6) atom to form PO$_{4}$ tetrahedra that share corners with two equivalent Na(1)O$_{5}$ square pyramids and  a cornercorner with one P(4)O$_{4}$ tetrahedra. The P(2)-O(1) bond length is 1.53 $\\\\AA$. The P(2)-O(10) bond length is 1.62 $\\\\AA$. The P(2)-O(4) bond length is 1.55 $\\\\AA$. The P(2)-O(6) bond length is 1.52 $\\\\AA$. In the third P site, P(3) is bonded to one O(11), one O(13), one O(7), and one O(9) atom to form PO$_{4}$ tetrahedra that share  a cornercorner with one Na(1)O$_{5}$ square pyramid and  a cornercorner with one P(1)O$_{4}$ tetrahedra. The P(3)-O(11) bond length is 1.53 $\\\\AA$. The P(3)-O(13) bond length is 1.54 $\\\\AA$. The P(3)-O(7) bond length is 1.64 $\\\\AA$. The P(3)-O(9) bond length is 1.53 $\\\\AA$. In the fourth P site, P(4) is bonded to one O(10), one O(12), one O(14), and one O(8) atom to form PO$_{4}$ tetrahedra that share  a cornercorner with one Na(1)O$_{5}$ square pyramid and  a cornercorner with one P(2)O$_{4}$ tetrahedra. The P(4)-O(10) bond length is 1.63 $\\\\AA$. The P(4)-O(12) bond length is 1.55 $\\\\AA$. The P(4)-O(14) bond length is 1.53 $\\\\AA$. The P(4)-O(8) bond length is 1.51 $\\\\AA$. There are fourteen inequivalent O sites. In the first O site, O(1) is bonded in a distorted bent 120 degrees geometry to one Bi(1) and one P(2) atom. In the second O site, O(2) is bonded in a 2-coordinate geometry to one Na(1), one Bi(1), and one P(1) atom. In the third O site, O(3) is bonded in a distorted single-bond geometry to one Bi(1) and one P(1) atom. In the fourth O site, O(4) is bonded in a 3-coordinate geometry to one Na(1), one Bi(1), and one P(2) atom. In the fifth O site, O(5) is bonded in a trigonal planar geometry to one Na(2), one Bi(1), and one P(1) atom. In the sixth O site, O(6) is bonded in a distorted trigonal planar geometry to one Na(1), one Na(3), and one P(2) atom. In the seventh O site, O(7) is bonded in a bent 120 degrees geometry to one P(1) and one P(3) atom. In the eighth O site, O(8) is bonded in a 3-coordinate geometry to one Na(1), one Na(2), and one P(4) atom. In the ninth O site, O(9) is bonded in a 4-coordinate geometry to one Na(1), one Na(2), one Na(3), and one P(3) atom. In the tenth O site, O(10) is bonded in a bent 120 degrees geometry to one P(2) and one P(4) atom. In the eleventh O site, O(11) is bonded in a 3-coordinate geometry to one Na(3), one Bi(1), and one P(3) atom. In the twelfth O site, O(12) is bonded in a distorted single-bond geometry to one Na(3), one Bi(1), and one P(4) atom. In the thirteenth O site, O(13) is bonded in a 3-coordinate geometry to two equivalent Na(2) and one P(3) atom. In the fourteenth O site, O(14) is bonded in a 3-coordinate geometry to two equivalent Na(3) and one P(4) atom.'"
      ]
     },
     "execution_count": 17,
     "metadata": {},
     "output_type": "execute_result"
    }
   ],
   "source": [
    "description"
   ]
  },
  {
   "cell_type": "code",
   "execution_count": null,
   "metadata": {},
   "outputs": [],
   "source": []
  }
 ],
 "metadata": {
  "kernelspec": {
   "display_name": "LLM",
   "language": "python",
   "name": "python3"
  },
  "language_info": {
   "codemirror_mode": {
    "name": "ipython",
    "version": 3
   },
   "file_extension": ".py",
   "mimetype": "text/x-python",
   "name": "python",
   "nbconvert_exporter": "python",
   "pygments_lexer": "ipython3",
   "version": "3.9.18"
  }
 },
 "nbformat": 4,
 "nbformat_minor": 2
}
